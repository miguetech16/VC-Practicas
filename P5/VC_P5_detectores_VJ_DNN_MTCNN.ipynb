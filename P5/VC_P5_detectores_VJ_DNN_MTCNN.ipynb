{
 "cells": [
  {
   "cell_type": "markdown",
   "metadata": {},
   "source": [
    "Detección de caras con webcam con detectores de OpenCV"
   ]
  },
  {
   "cell_type": "code",
   "execution_count": null,
   "metadata": {},
   "outputs": [],
   "source": [
    "import cv2\n",
    "import numpy as np\n",
    "\n",
    "# Función para superponer una imagen con canal alfa (transparente) sobre el frame\n",
    "def overlay_image_alpha(img, overlay, pos_x, pos_y, overlay_size):\n",
    "    overlay = cv2.resize(overlay, overlay_size)  # Redimensiona la imagen de overlay\n",
    "\n",
    "    # Validar si la imagen de overlay tiene un canal alfa\n",
    "    if overlay.shape[2] == 4:\n",
    "        # Dividir en canales BGR y Alfa\n",
    "        b, g, r, a = cv2.split(overlay)\n",
    "        overlay_rgb = cv2.merge((b, g, r))\n",
    "        mask = cv2.merge((a, a, a))\n",
    "    else:\n",
    "        # Si no tiene canal alfa, usamos una máscara totalmente opaca\n",
    "        overlay_rgb = overlay\n",
    "        mask = np.ones_like(overlay_rgb) * 255\n",
    "\n",
    "    h, w = overlay_rgb.shape[:2]\n",
    "    roi = img[pos_y:pos_y+h, pos_x:pos_x+w]  # Región de interés\n",
    "\n",
    "    # Aplicar la máscara para superponer\n",
    "    img[pos_y:pos_y+h, pos_x:pos_x+w] = np.where(mask == 255, overlay_rgb, roi)\n",
    "\n",
    "# Detector de Opencv2\n",
    "haar_cascade = cv2.CascadeClassifier(cv2.data.haarcascades + 'haarcascade_frontalface_default.xml')\n",
    "\n",
    "# Carga las imágenes\n",
    "peluca_img = cv2.imread('peluca_payaso.png', cv2.IMREAD_UNCHANGED)  \n",
    "nariz_img = cv2.imread('nariz_payaso.png', cv2.IMREAD_UNCHANGED)  \n",
    "\n",
    "# Capturando con la webcam\n",
    "video_capture = cv2.VideoCapture(0)\n",
    "\n",
    "while True:\n",
    "    ret, frame = video_capture.read()    \n",
    "    gray = cv2.cvtColor(frame, cv2.COLOR_BGR2GRAY)\n",
    "    faces = haar_cascade.detectMultiScale(gray, scaleFactor=1.1, minNeighbors=5, minSize=(30, 30))\n",
    "\n",
    "    for (x, y, w, h) in faces:\n",
    "        peluca_size = (w, h)\n",
    "        nariz_size = (int(w * 0.5), int(h * 0.5))\n",
    "        peluca_x, peluca_y = x, y - peluca_size[1] // 2\n",
    "        nariz_x, nariz_y = x + w // 2 - nariz_size[0] // 2, y + h // 2 - nariz_size[1] // 2\n",
    "\n",
    "        # Superponer la peluca y la nariz\n",
    "        overlay_image_alpha(frame, peluca_img, peluca_x, peluca_y, peluca_size)\n",
    "        overlay_image_alpha(frame, nariz_img, nariz_x, nariz_y, nariz_size)\n",
    "    \n",
    "    cv2.imshow('Filtro Payaso', frame)\n",
    "\n",
    "    key = cv2.waitKey(1)\n",
    "    if key == 27:  # Presiona Esc para salir\n",
    "        break\n",
    "\n",
    "# Cierra la ventana y la camara\n",
    "video_capture.release()\n",
    "cv2.destroyAllWindows()"
   ]
  }
 ],
 "metadata": {
  "kernelspec": {
   "display_name": "VC_P5",
   "language": "python",
   "name": "python3"
  },
  "language_info": {
   "codemirror_mode": {
    "name": "ipython",
    "version": 3
   },
   "file_extension": ".py",
   "mimetype": "text/x-python",
   "name": "python",
   "nbconvert_exporter": "python",
   "pygments_lexer": "ipython3",
   "version": "3.11.5"
  }
 },
 "nbformat": 4,
 "nbformat_minor": 2
}
